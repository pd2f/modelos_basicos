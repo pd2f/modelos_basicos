{
 "cells": [
  {
   "cell_type": "code",
   "execution_count": 1,
   "metadata": {},
   "outputs": [
    {
     "data": {
      "text/plain": [
       "<matplotlib.collections.PathCollection at 0x146f3c56da0>"
      ]
     },
     "execution_count": 1,
     "metadata": {},
     "output_type": "execute_result"
    },
    {
     "data": {
      "image/png": "[encoded data removed]",
      "text/plain": [
       "<matplotlib.figure.Figure at 0x146f390c4a8>"
      ]
     },
     "metadata": {},
     "output_type": "display_data"
    }
   ],
   "source": [
    "%matplotlib inline\n",
    "import numpy as np\n",
    "import pandas as pd\n",
    "import matplotlib.pyplot as plt\n",
    "baseDados = pd.read_csv('data/base_regressao_logistica.csv')\n",
    "plt.scatter(baseDados.X1[baseDados.Y == 0], baseDados.X2[baseDados.Y == 0], c = 'darkgreen', marker = '^')\n",
    "plt.scatter(baseDados.X1[baseDados.Y == 1], baseDados.X2[baseDados.Y == 1], c = 'black', marker = ',')"
   ]
  },
  {
   "cell_type": "markdown",
   "metadata": {},
   "source": [
    "<h2 style=\"text-align:center; margin:40px\"> Naive Bayes </h2>\n",
    "\n",
    "![](img/bayes.png)\n",
    "\n",
    "O <b>Naive Bayes</b> é um classificador (e somente classificador) que calcula probabilidades baseado nas frequências relativas das observações, utilizando uma <b>simplificação do Teorema de Bayes</b>.\n",
    "\n",
    "<h3 style=\"text-align:center; margin:40px\"> Teorema de Bayes </h3>\n",
    "\n",
    "$$ P(A\\,|\\,B) = \\frac{P(B\\,|\\,A)P(A)}{P(B)} $$\n",
    "\n",
    "<h3 style=\"text-align:center; margin:40px\"> Aplicando em Machine Learning... </h3>\n",
    "\n",
    "$$ P(Y=C\\,|\\,X) = \\frac{P(X\\,|\\,Y=C)P(Y=C)}{P(X)} $$\n",
    "\n",
    "<h3 style=\"text-align:center; margin:40px\"> P(X) pode ser considerado constante!! </h3>\n",
    "\n",
    "$$ P(Y=C\\,|\\,X) \\approx P(X\\,|\\,Y=C)P(Y=C) $$\n",
    "\n",
    "<h3 style=\"text-align:center; margin:40px\"> Vamos assumir que cada $X_i$ é independente? </h3>\n",
    "\n",
    "$$ P(Y=C\\,|\\,X) \\approx P(Y=C) \\prod_{i=1}^{N} P(X_i\\,|\\,Y=C)$$"
   ]
  },
  {
   "cell_type": "markdown",
   "metadata": {},
   "source": [
    "<h3 style=\"text-align:center; margin:40px\"> Exemplo prático - Jogar Tennis </h3>\n",
    "\n",
    "![](img/tennis1.png)\n",
    "\n",
    "<h3 style=\"text-align:center; margin:40px\"> Aplicando a fórmula </h3>\n",
    "\n",
    "$$ P(Decisão\\,|\\,X) \\approx P(Decisão)*P(X\\,|\\,Decisão)$$\n",
    "\n",
    "$$ P(Decisão\\,|\\,X) \\approx P(Decisão)*P(Aspecto\\,|\\,Decisão)*P(Temperatura\\,|\\,Decisão)*P(Umidade\\,|\\,Decisão)*P(Vento\\,|\\,Decisão)$$\n",
    "\n",
    "$$ P(Decisão = N) = \\frac{5}{14} = 0.3571$$\n",
    "\n",
    "$$ P(Decisão = S) = \\frac{9}{14} = 0.6428$$\n",
    "\n",
    "![](img/tennis2.png)\n",
    "\n",
    "![](img/tennis3.png)\n",
    "\n",
    "$$ P(Decisão=N\\,|\\,X)=0.36*0.60*0.20*0.80*0.60=0.0207 $$\n",
    "\n",
    "$$ P(Decisão=S\\,|\\,X)=0.64*0.22*0.33*0.33*0.33=0.0050 $$\n",
    "\n",
    "<h3 style=\"text-align:center; margin:40px\"> Conclusão : Não jogar tennis! </h3>"
   ]
  },
  {
   "cell_type": "markdown",
   "metadata": {
    "collapsed": true
   },
   "source": [
    "<h3> Scikit-Learn </h3>\n",
    "Agora, vamos rodar os códigos abaixo que usam uma implementação do algoritmo disponível no pacote <i>sklearn</i> (Scikit-Learn)."
   ]
  },
  {
   "cell_type": "code",
   "execution_count": 2,
   "metadata": {
    "collapsed": true
   },
   "outputs": [],
   "source": [
    "from sklearn.naive_bayes import GaussianNB"
   ]
  },
  {
   "cell_type": "code",
   "execution_count": 3,
   "metadata": {},
   "outputs": [
    {
     "data": {
      "text/plain": [
       "GaussianNB(priors=None)"
      ]
     },
     "execution_count": 3,
     "metadata": {},
     "output_type": "execute_result"
    }
   ],
   "source": [
    "NB = GaussianNB()\n",
    "X = baseDados.loc[:, baseDados.columns != 'Y']\n",
    "Y = baseDados.Y\n",
    "NB.fit(X,Y)"
   ]
  },
  {
   "cell_type": "code",
   "execution_count": 4,
   "metadata": {},
   "outputs": [
    {
     "data": {
      "text/plain": [
       "<matplotlib.collections.PathCollection at 0x146f5a80470>"
      ]
     },
     "execution_count": 4,
     "metadata": {},
     "output_type": "execute_result"
    },
    {
     "data": {
      "image/png": "[encoded data removed]",
      "text/plain": [
       "<matplotlib.figure.Figure at 0x146f1b541d0>"
      ]
     },
     "metadata": {},
     "output_type": "display_data"
    }
   ],
   "source": [
    "x_min, x_max = baseDados.X1.min() - .1, baseDados.X1.max() + .1\n",
    "y_min, y_max = baseDados.X2.min() - .1, baseDados.X2.max() + .1\n",
    "h = .005\n",
    "xx, yy = np.meshgrid(np.arange(x_min, x_max, h), np.arange(y_min, y_max, h))\n",
    "Z = NB.predict(np.c_[xx.ravel(), yy.ravel()])\n",
    "\n",
    "Z = Z.reshape(xx.shape)\n",
    "plt.figure()\n",
    "plt.pcolormesh(xx, yy, Z, cmap = plt.cm.Accent)\n",
    "\n",
    "pred = NB.predict(X)\n",
    "plt.scatter(baseDados.X1[Y == 0], baseDados.X2[Y == 0], c = 'darkgreen', marker = '^')\n",
    "plt.scatter(baseDados.X1[Y == 1], baseDados.X2[Y == 1], c = 'black', marker = ',')"
   ]
  },
  {
   "cell_type": "markdown",
   "metadata": {},
   "source": [
    "<h2 style=\"text-align:center; margin:40px\"> Ensembles - Bagging </h2>\n",
    "\n",
    "![](img/bagging.png)\n",
    "\n",
    "<b>Bagging</b> (<b>B</b>ootstrap <b>agg</b>regating) é um tipo de algoritmo que realiza predições baseadas no resultado de <b>vários modelos</b>, sendo que cada modelo é treinado com uma <b>amostra aleatória com reposição</b> dos dados.\n",
    "\n",
    "<b>Classificação:</b> Predição feita por votação entre as predições de cada modelo\n",
    "\n",
    "<b>Regressão:</b> Predição é a média das predições de cada modelo\n",
    "\n",
    "<br/>\n",
    "Algumas vantagens de fazer bagging são:\n",
    "<ul>\n",
    "    <li>Maior <b>estabilidade</b> do modelo</li>\n",
    "    <li>Possibilidade de <b>aumento de performance</b> (acurácia, precisão, etc...)</li>\n",
    "    <li>Menor risco de <b>overfitting</b></li>\n",
    "    <li>Cada modelo pode ser <b>treinado em paralelo</b></li>\n",
    "</ul>"
   ]
  },
  {
   "cell_type": "markdown",
   "metadata": {},
   "source": [
    "<h2 style=\"text-align:center; margin:40px\"> Ensembles - Random Forests </h2>\n",
    "\n",
    "![](img/randomforest.png)\n",
    "\n",
    "<b>Random Forests</b> são um caso especial de Bagging onde cada modelo é uma <b>árvore de decisão</b>, e além de realizarmos amostragem nas linhas da base de dados, também realizamos <b>amostragem nas variáveis (colunas)</b> a cada quebra de cada árvore.\n",
    "\n",
    "<b>Classificação:</b> Predição feita por votação entre as predições de cada árvore\n",
    "\n",
    "<b>Regressão:</b> Predição é a média das predições de cada árvore\n",
    "\n",
    "Random Forests possuem as mesmas vantagens de realizar Bagging, e costumam apresentar resultados interessantes em diversos cenários, sendo um bom candidato para se testar em muitos problemas."
   ]
  },
  {
   "cell_type": "markdown",
   "metadata": {},
   "source": [
    "<h3> Scikit-Learn </h3>\n",
    "Agora, vamos rodar os códigos abaixo que usam uma implementação do algoritmo disponível no pacote <i>sklearn</i> (Scikit-Learn). Iremos ver como a escolha dos parâmetros é <b>muito</b> importante para o resultado do algoritmo."
   ]
  },
  {
   "cell_type": "code",
   "execution_count": 5,
   "metadata": {
    "collapsed": true
   },
   "outputs": [],
   "source": [
    "from sklearn.ensemble import RandomForestClassifier"
   ]
  },
  {
   "cell_type": "code",
   "execution_count": 6,
   "metadata": {},
   "outputs": [
    {
     "data": {
      "text/plain": [
       "RandomForestClassifier(bootstrap=True, class_weight=None, criterion='entropy',\n",
       "            max_depth=2, max_features='auto', max_leaf_nodes=None,\n",
       "            min_impurity_decrease=0.0, min_impurity_split=None,\n",
       "            min_samples_leaf=1, min_samples_split=2,\n",
       "            min_weight_fraction_leaf=0.0, n_estimators=10, n_jobs=1,\n",
       "            oob_score=False, random_state=None, verbose=0,\n",
       "            warm_start=False)"
      ]
     },
     "execution_count": 6,
     "metadata": {},
     "output_type": "execute_result"
    }
   ],
   "source": [
    "RF = RandomForestClassifier(criterion=\"entropy\", max_depth=2, n_estimators=10)\n",
    "X = baseDados.loc[:, baseDados.columns != 'Y']\n",
    "Y = baseDados.Y\n",
    "RF.fit(X,Y)"
   ]
  },
  {
   "cell_type": "code",
   "execution_count": 7,
   "metadata": {},
   "outputs": [
    {
     "data": {
      "text/plain": [
       "<matplotlib.collections.PathCollection at 0x146f5ea5278>"
      ]
     },
     "execution_count": 7,
     "metadata": {},
     "output_type": "execute_result"
    },
    {
     "data": {
      "image/png": "[encoded data removed]",
      "text/plain": [
       "<matplotlib.figure.Figure at 0x146f5e4e668>"
      ]
     },
     "metadata": {},
     "output_type": "display_data"
    }
   ],
   "source": [
    "x_min, x_max = baseDados.X1.min() - .1, baseDados.X1.max() + .1\n",
    "y_min, y_max = baseDados.X2.min() - .1, baseDados.X2.max() + .1\n",
    "h = .005\n",
    "xx, yy = np.meshgrid(np.arange(x_min, x_max, h), np.arange(y_min, y_max, h))\n",
    "Z = RF.predict(np.c_[xx.ravel(), yy.ravel()])\n",
    "\n",
    "Z = Z.reshape(xx.shape)\n",
    "plt.figure()\n",
    "plt.pcolormesh(xx, yy, Z, cmap = plt.cm.Accent)\n",
    "\n",
    "pred = RF.predict(X)\n",
    "plt.scatter(baseDados.X1[Y == 0], baseDados.X2[Y == 0], c = 'darkgreen', marker = '^')\n",
    "plt.scatter(baseDados.X1[Y == 1], baseDados.X2[Y == 1], c = 'black', marker = ',')"
   ]
  },
  {
   "cell_type": "markdown",
   "metadata": {},
   "source": [
    "<h2 style=\"text-align:center; margin:40px\"> Ensembles - Gradient Boosting </h2>\n",
    "\n",
    "![](img/gradientboosting.png)\n",
    "\n",
    "O <b> Gradient Boosting </b> combina vários modelos simples (em geral árvores pequenas ou regressores lineares) para obter modelos mais complexos e com melhor performance.\n",
    "\n",
    "O primeiro modelo é treinado normalmente, <b>o segundo tenta acertar o erro do primeiro</b> e assim sucessivamente. No final a resposta é obtida pela combinação de todos os modelos, que varia se o problema for de classificação ou regressão.\n",
    "\n",
    "<h3><font color=\"red\">Atenção:</font> Como cada modelo tenta acertar o erro do anterior, existe uma dependência que inviabiliza a paralelização do treinamento. Por conta disto, o treinamento do Gradient Boosting costuma ser <font color=\"red\">bem mais lento</font> que o de uma Random Forest</h3>"
   ]
  },
  {
   "cell_type": "markdown",
   "metadata": {},
   "source": [
    "<h3> Scikit-Learn </h3>\n",
    "Agora, vamos rodar os códigos abaixo que usam uma implementação do algoritmo disponível no pacote <i>sklearn</i> (Scikit-Learn). Iremos ver como a escolha dos parâmetros é <b>muito</b> importante para o resultado do algoritmo."
   ]
  },
  {
   "cell_type": "code",
   "execution_count": 8,
   "metadata": {
    "collapsed": true
   },
   "outputs": [],
   "source": [
    "from sklearn.ensemble import GradientBoostingClassifier"
   ]
  },
  {
   "cell_type": "code",
   "execution_count": 9,
   "metadata": {},
   "outputs": [
    {
     "data": {
      "text/plain": [
       "GradientBoostingClassifier(criterion='friedman_mse', init=None,\n",
       "              learning_rate=0.5, loss='deviance', max_depth=2,\n",
       "              max_features=None, max_leaf_nodes=None,\n",
       "              min_impurity_decrease=0.0, min_impurity_split=None,\n",
       "              min_samples_leaf=1, min_samples_split=2,\n",
       "              min_weight_fraction_leaf=0.0, n_estimators=10,\n",
       "              presort='auto', random_state=None, subsample=1.0, verbose=0,\n",
       "              warm_start=False)"
      ]
     },
     "execution_count": 9,
     "metadata": {},
     "output_type": "execute_result"
    }
   ],
   "source": [
    "GB = GradientBoostingClassifier(learning_rate=0.5, max_depth=2, n_estimators=10)\n",
    "X = baseDados.loc[:, baseDados.columns != 'Y']\n",
    "Y = baseDados.Y\n",
    "GB.fit(X,Y)"
   ]
  },
  {
   "cell_type": "code",
   "execution_count": 10,
   "metadata": {},
   "outputs": [
    {
     "data": {
      "text/plain": [
       "<matplotlib.collections.PathCollection at 0x146f6080748>"
      ]
     },
     "execution_count": 10,
     "metadata": {},
     "output_type": "execute_result"
    },
    {
     "data": {
      "image/png": "[encoded data removed]",
      "text/plain": [
       "<matplotlib.figure.Figure at 0x146f5e4e5c0>"
      ]
     },
     "metadata": {},
     "output_type": "display_data"
    }
   ],
   "source": [
    "x_min, x_max = baseDados.X1.min() - .1, baseDados.X1.max() + .1\n",
    "y_min, y_max = baseDados.X2.min() - .1, baseDados.X2.max() + .1\n",
    "h = .005\n",
    "xx, yy = np.meshgrid(np.arange(x_min, x_max, h), np.arange(y_min, y_max, h))\n",
    "Z = GB.predict(np.c_[xx.ravel(), yy.ravel()])\n",
    "\n",
    "Z = Z.reshape(xx.shape)\n",
    "plt.figure()\n",
    "plt.pcolormesh(xx, yy, Z, cmap = plt.cm.Accent)\n",
    "\n",
    "pred = GB.predict(X)\n",
    "plt.scatter(baseDados.X1[Y == 0], baseDados.X2[Y == 0], c = 'darkgreen', marker = '^')\n",
    "plt.scatter(baseDados.X1[Y == 1], baseDados.X2[Y == 1], c = 'black', marker = ',')"
   ]
  },
  {
   "cell_type": "markdown",
   "metadata": {},
   "source": [
    "<h2 style=\"text-align:center; margin:40px\"> Máquinas de Vetores de Suporte (SVM) </h2>\n",
    "\n",
    "![](img/svm.png)\n",
    "\n",
    "O algoritmo de <b>SVM</b> tem como objetivo encontrar a <b>superfície separadora (hiperplano) que maximiza a distância entre as margens</b> (retas tracejadas). Isso permite separar as duas classes da melhor maneira possível.\n",
    "\n",
    "<h4> Equação do Plano (2D): $ax + by + c = 0$ </h4>\n",
    "\n",
    "<h4> Podemos re-escrever como: $w_1x_1 + w_2x_2 + b = 0$ </h4>\n",
    "\n",
    "<h4> Equação do Plano (m dimensões): $w \\cdot x + b = 0$ </h4>\n",
    "\n",
    "<h4> As duas margens são dadas por: $w \\cdot x + b = \\pm1$ </h4>\n",
    "\n",
    "<h4> Distância entre as margens: $d = \\frac{2}{||w||}$ </h4>\n",
    "\n",
    "<h4> Então nosso objetivo é:<br/>$\\min_{w}{||w||}$ <br/>sujeito a $y_i (w \\cdot x_i + b) >= 1$</h4>\n",
    "\n",
    "<h4> Para permitir pequenos erros, adicionamos variáveis de folga:\n",
    "<br/>$\\min_{w,\\eta}{||w||} + C\\sum{\\eta_i}$ <br/>sujeito a $y_i (w \\cdot x_i + b) >= 1 - \\eta_i$</h4>"
   ]
  },
  {
   "cell_type": "markdown",
   "metadata": {},
   "source": [
    "<h3 style=\"text-align:center; margin:40px\"> E se não houver separação linear entre as duas classes? </h3>\n",
    "\n",
    "<h4>Kernel Trick</h4>\n",
    "É o nome dado para uma técnica que envolve mapear os dados para um espaço diferente, geralmente de dimensão mais alta, de forma que neste espaço os dados sejam linearmente separáveis. Ou seja, substituímos cada $x_i$ por $\\phi(x_i)$\n",
    "\n",
    "![](img/kernel1.png)\n",
    "\n",
    "<h4> O novo espaço pode ter dimensão infinita! </h4>\n",
    "Não precisamos de fato mapear os pontos no novo espaço! Para resolver o SVM, basta conhecer o produto escalar das observações no novo espaço, ou seja, o resultado de $\\phi(x_i)\\cdot\\phi(x_j)$, que geralmente chamamos de <b>Kernel</b>:\n",
    "\n",
    "$K(x_i, x_j) = \\phi(x_i)\\cdot\\phi(x_j)$\n",
    "\n",
    "<h4> Principais kernels: </h4>\n",
    "<ul>\n",
    "    <li>Linear: $K(x_i, x_j) = x_i \\cdot x_j$</li>\n",
    "    <li>Polinomial: $K(x_i, x_j) = (\\delta(x_i \\cdot x_j) + k)^d$</li>\n",
    "    <li>Gaussiano: $K(x_i, x_j) = e^{-\\gamma||x_i-x_j||^2}$</li>\n",
    "    <li>Sigmoidal: $K(x_i, x_j) = tanh(\\delta(x_i \\cdot x_j) + k)$</li>\n",
    "</ul>"
   ]
  },
  {
   "cell_type": "markdown",
   "metadata": {
    "collapsed": true
   },
   "source": [
    "<h3> Scikit-Learn </h3>\n",
    "Agora, vamos rodar os códigos abaixo que usam uma implementação do algoritmo disponível no pacote <i>sklearn</i> (Scikit-Learn). Iremos ver como a escolha do <b>kernel</b> e dos parâmetros é <b>muito</b> importante para o resultado do algoritmo."
   ]
  },
  {
   "cell_type": "code",
   "execution_count": 11,
   "metadata": {
    "collapsed": true
   },
   "outputs": [],
   "source": [
    "from sklearn.svm import SVC"
   ]
  },
  {
   "cell_type": "code",
   "execution_count": 12,
   "metadata": {},
   "outputs": [
    {
     "data": {
      "text/plain": [
       "SVC(C=1, cache_size=200, class_weight=None, coef0=0.0,\n",
       "  decision_function_shape='ovr', degree=3, gamma='auto', kernel='linear',\n",
       "  max_iter=-1, probability=False, random_state=None, shrinking=True,\n",
       "  tol=0.001, verbose=False)"
      ]
     },
     "execution_count": 12,
     "metadata": {},
     "output_type": "execute_result"
    }
   ],
   "source": [
    "SVM = SVC(kernel = 'linear', C = 1)\n",
    "X = baseDados.loc[:, baseDados.columns != 'Y']\n",
    "Y = baseDados.Y\n",
    "SVM.fit(X,Y)"
   ]
  },
  {
   "cell_type": "code",
   "execution_count": 13,
   "metadata": {},
   "outputs": [
    {
     "data": {
      "text/plain": [
       "<matplotlib.collections.PathCollection at 0x146f6454588>"
      ]
     },
     "execution_count": 13,
     "metadata": {},
     "output_type": "execute_result"
    },
    {
     "data": {
      "image/png": "[encoded data removed]",
      "text/plain": [
       "<matplotlib.figure.Figure at 0x146f59fa668>"
      ]
     },
     "metadata": {},
     "output_type": "display_data"
    }
   ],
   "source": [
    "x_min, x_max = baseDados.X1.min() - .1, baseDados.X1.max() + .1\n",
    "y_min, y_max = baseDados.X2.min() - .1, baseDados.X2.max() + .1\n",
    "h = .02\n",
    "xx, yy = np.meshgrid(np.arange(x_min, x_max, h), np.arange(y_min, y_max, h))\n",
    "Z = SVM.predict(np.c_[xx.ravel(), yy.ravel()])\n",
    "\n",
    "Z = Z.reshape(xx.shape)\n",
    "plt.figure()\n",
    "plt.pcolormesh(xx, yy, Z, cmap = plt.cm.Accent)\n",
    "\n",
    "pred = SVM.predict(X)\n",
    "plt.scatter(baseDados.X1[Y == 0], baseDados.X2[Y == 0], c = 'darkgreen', marker = '^')\n",
    "plt.scatter(baseDados.X1[Y == 1], baseDados.X2[Y == 1], c = 'black', marker = ',')"
   ]
  },
  {
   "cell_type": "code",
   "execution_count": null,
   "metadata": {
    "collapsed": true
   },
   "outputs": [],
   "source": []
  }
 ],
 "metadata": {
  "kernelspec": {
   "display_name": "Python 3",
   "language": "python",
   "name": "python3"
  },
  "language_info": {
   "codemirror_mode": {
    "name": "ipython",
    "version": 3
   },
   "file_extension": ".py",
   "mimetype": "text/x-python",
   "name": "python",
   "nbconvert_exporter": "python",
   "pygments_lexer": "ipython3",
   "version": "3.6.3"
  }
 },
 "nbformat": 4,
 "nbformat_minor": 1
}
